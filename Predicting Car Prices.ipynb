{
 "cells": [
  {
   "cell_type": "markdown",
   "id": "a287161a",
   "metadata": {},
   "source": [
    "# Predicting Car Prices\n",
    "Today, we'll be using machine learning and k-nearest neighbour to find the best features and k-value for predicting the price of a car."
   ]
  },
  {
   "cell_type": "code",
   "execution_count": 1,
   "id": "8c4a385a",
   "metadata": {},
   "outputs": [],
   "source": [
    "import pandas as pd\n",
    "import numpy as np\n",
    "import matplotlib.pyplot as plt"
   ]
  },
  {
   "cell_type": "code",
   "execution_count": 2,
   "id": "87904940",
   "metadata": {},
   "outputs": [],
   "source": [
    "## Reading Dataset\n",
    "columns = ['symboling', 'normalized-losses', 'make', 'fuel-type', 'aspiration', 'num-of-doors', 'body-style', \n",
    "        'drive-wheels', 'engine-location', 'wheel-base', 'length', 'width', 'height', 'curb-weight', 'engine-type', \n",
    "        'num-of-cylinders', 'engine-size', 'fuel-system', 'bore', 'stroke', 'compression-rate', 'horsepower', 'peak-rpm', 'city-mpg', 'highway-mpg', 'price']\n",
    "cars = pd.read_csv('imports-85.data',names=columns)"
   ]
  },
  {
   "cell_type": "code",
   "execution_count": 3,
   "id": "21d5b209",
   "metadata": {},
   "outputs": [
    {
     "data": {
      "text/html": [
       "<div>\n",
       "<style scoped>\n",
       "    .dataframe tbody tr th:only-of-type {\n",
       "        vertical-align: middle;\n",
       "    }\n",
       "\n",
       "    .dataframe tbody tr th {\n",
       "        vertical-align: top;\n",
       "    }\n",
       "\n",
       "    .dataframe thead th {\n",
       "        text-align: right;\n",
       "    }\n",
       "</style>\n",
       "<table border=\"1\" class=\"dataframe\">\n",
       "  <thead>\n",
       "    <tr style=\"text-align: right;\">\n",
       "      <th></th>\n",
       "      <th>symboling</th>\n",
       "      <th>normalized-losses</th>\n",
       "      <th>make</th>\n",
       "      <th>fuel-type</th>\n",
       "      <th>aspiration</th>\n",
       "      <th>num-of-doors</th>\n",
       "      <th>body-style</th>\n",
       "      <th>drive-wheels</th>\n",
       "      <th>engine-location</th>\n",
       "      <th>wheel-base</th>\n",
       "      <th>...</th>\n",
       "      <th>engine-size</th>\n",
       "      <th>fuel-system</th>\n",
       "      <th>bore</th>\n",
       "      <th>stroke</th>\n",
       "      <th>compression-rate</th>\n",
       "      <th>horsepower</th>\n",
       "      <th>peak-rpm</th>\n",
       "      <th>city-mpg</th>\n",
       "      <th>highway-mpg</th>\n",
       "      <th>price</th>\n",
       "    </tr>\n",
       "  </thead>\n",
       "  <tbody>\n",
       "    <tr>\n",
       "      <th>0</th>\n",
       "      <td>3</td>\n",
       "      <td>?</td>\n",
       "      <td>alfa-romero</td>\n",
       "      <td>gas</td>\n",
       "      <td>std</td>\n",
       "      <td>two</td>\n",
       "      <td>convertible</td>\n",
       "      <td>rwd</td>\n",
       "      <td>front</td>\n",
       "      <td>88.6</td>\n",
       "      <td>...</td>\n",
       "      <td>130</td>\n",
       "      <td>mpfi</td>\n",
       "      <td>3.47</td>\n",
       "      <td>2.68</td>\n",
       "      <td>9.0</td>\n",
       "      <td>111</td>\n",
       "      <td>5000</td>\n",
       "      <td>21</td>\n",
       "      <td>27</td>\n",
       "      <td>13495</td>\n",
       "    </tr>\n",
       "    <tr>\n",
       "      <th>1</th>\n",
       "      <td>3</td>\n",
       "      <td>?</td>\n",
       "      <td>alfa-romero</td>\n",
       "      <td>gas</td>\n",
       "      <td>std</td>\n",
       "      <td>two</td>\n",
       "      <td>convertible</td>\n",
       "      <td>rwd</td>\n",
       "      <td>front</td>\n",
       "      <td>88.6</td>\n",
       "      <td>...</td>\n",
       "      <td>130</td>\n",
       "      <td>mpfi</td>\n",
       "      <td>3.47</td>\n",
       "      <td>2.68</td>\n",
       "      <td>9.0</td>\n",
       "      <td>111</td>\n",
       "      <td>5000</td>\n",
       "      <td>21</td>\n",
       "      <td>27</td>\n",
       "      <td>16500</td>\n",
       "    </tr>\n",
       "    <tr>\n",
       "      <th>2</th>\n",
       "      <td>1</td>\n",
       "      <td>?</td>\n",
       "      <td>alfa-romero</td>\n",
       "      <td>gas</td>\n",
       "      <td>std</td>\n",
       "      <td>two</td>\n",
       "      <td>hatchback</td>\n",
       "      <td>rwd</td>\n",
       "      <td>front</td>\n",
       "      <td>94.5</td>\n",
       "      <td>...</td>\n",
       "      <td>152</td>\n",
       "      <td>mpfi</td>\n",
       "      <td>2.68</td>\n",
       "      <td>3.47</td>\n",
       "      <td>9.0</td>\n",
       "      <td>154</td>\n",
       "      <td>5000</td>\n",
       "      <td>19</td>\n",
       "      <td>26</td>\n",
       "      <td>16500</td>\n",
       "    </tr>\n",
       "    <tr>\n",
       "      <th>3</th>\n",
       "      <td>2</td>\n",
       "      <td>164</td>\n",
       "      <td>audi</td>\n",
       "      <td>gas</td>\n",
       "      <td>std</td>\n",
       "      <td>four</td>\n",
       "      <td>sedan</td>\n",
       "      <td>fwd</td>\n",
       "      <td>front</td>\n",
       "      <td>99.8</td>\n",
       "      <td>...</td>\n",
       "      <td>109</td>\n",
       "      <td>mpfi</td>\n",
       "      <td>3.19</td>\n",
       "      <td>3.40</td>\n",
       "      <td>10.0</td>\n",
       "      <td>102</td>\n",
       "      <td>5500</td>\n",
       "      <td>24</td>\n",
       "      <td>30</td>\n",
       "      <td>13950</td>\n",
       "    </tr>\n",
       "    <tr>\n",
       "      <th>4</th>\n",
       "      <td>2</td>\n",
       "      <td>164</td>\n",
       "      <td>audi</td>\n",
       "      <td>gas</td>\n",
       "      <td>std</td>\n",
       "      <td>four</td>\n",
       "      <td>sedan</td>\n",
       "      <td>4wd</td>\n",
       "      <td>front</td>\n",
       "      <td>99.4</td>\n",
       "      <td>...</td>\n",
       "      <td>136</td>\n",
       "      <td>mpfi</td>\n",
       "      <td>3.19</td>\n",
       "      <td>3.40</td>\n",
       "      <td>8.0</td>\n",
       "      <td>115</td>\n",
       "      <td>5500</td>\n",
       "      <td>18</td>\n",
       "      <td>22</td>\n",
       "      <td>17450</td>\n",
       "    </tr>\n",
       "  </tbody>\n",
       "</table>\n",
       "<p>5 rows × 26 columns</p>\n",
       "</div>"
      ],
      "text/plain": [
       "   symboling normalized-losses         make fuel-type aspiration num-of-doors  \\\n",
       "0          3                 ?  alfa-romero       gas        std          two   \n",
       "1          3                 ?  alfa-romero       gas        std          two   \n",
       "2          1                 ?  alfa-romero       gas        std          two   \n",
       "3          2               164         audi       gas        std         four   \n",
       "4          2               164         audi       gas        std         four   \n",
       "\n",
       "    body-style drive-wheels engine-location  wheel-base  ...  engine-size  \\\n",
       "0  convertible          rwd           front        88.6  ...          130   \n",
       "1  convertible          rwd           front        88.6  ...          130   \n",
       "2    hatchback          rwd           front        94.5  ...          152   \n",
       "3        sedan          fwd           front        99.8  ...          109   \n",
       "4        sedan          4wd           front        99.4  ...          136   \n",
       "\n",
       "   fuel-system  bore  stroke compression-rate horsepower  peak-rpm city-mpg  \\\n",
       "0         mpfi  3.47    2.68              9.0        111      5000       21   \n",
       "1         mpfi  3.47    2.68              9.0        111      5000       21   \n",
       "2         mpfi  2.68    3.47              9.0        154      5000       19   \n",
       "3         mpfi  3.19    3.40             10.0        102      5500       24   \n",
       "4         mpfi  3.19    3.40              8.0        115      5500       18   \n",
       "\n",
       "  highway-mpg  price  \n",
       "0          27  13495  \n",
       "1          27  16500  \n",
       "2          26  16500  \n",
       "3          30  13950  \n",
       "4          22  17450  \n",
       "\n",
       "[5 rows x 26 columns]"
      ]
     },
     "execution_count": 3,
     "metadata": {},
     "output_type": "execute_result"
    }
   ],
   "source": [
    "cars.head()"
   ]
  },
  {
   "cell_type": "markdown",
   "id": "b6bcebe1",
   "metadata": {},
   "source": [
    "The numeric columns we could use for the prediction are features like horsepower, highway-mpg, city-mpg, peak-rpm etc."
   ]
  },
  {
   "cell_type": "markdown",
   "id": "8224f0d0",
   "metadata": {},
   "source": [
    "## Data Cleaning "
   ]
  },
  {
   "cell_type": "code",
   "execution_count": 4,
   "id": "2556de33",
   "metadata": {},
   "outputs": [
    {
     "data": {
      "text/html": [
       "<div>\n",
       "<style scoped>\n",
       "    .dataframe tbody tr th:only-of-type {\n",
       "        vertical-align: middle;\n",
       "    }\n",
       "\n",
       "    .dataframe tbody tr th {\n",
       "        vertical-align: top;\n",
       "    }\n",
       "\n",
       "    .dataframe thead th {\n",
       "        text-align: right;\n",
       "    }\n",
       "</style>\n",
       "<table border=\"1\" class=\"dataframe\">\n",
       "  <thead>\n",
       "    <tr style=\"text-align: right;\">\n",
       "      <th></th>\n",
       "      <th>normalized-losses</th>\n",
       "      <th>wheel-base</th>\n",
       "      <th>length</th>\n",
       "      <th>width</th>\n",
       "      <th>height</th>\n",
       "      <th>curb-weight</th>\n",
       "      <th>engine-size</th>\n",
       "      <th>bore</th>\n",
       "      <th>stroke</th>\n",
       "      <th>compression-rate</th>\n",
       "      <th>horsepower</th>\n",
       "      <th>peak-rpm</th>\n",
       "      <th>city-mpg</th>\n",
       "      <th>highway-mpg</th>\n",
       "      <th>price</th>\n",
       "    </tr>\n",
       "  </thead>\n",
       "  <tbody>\n",
       "    <tr>\n",
       "      <th>0</th>\n",
       "      <td>?</td>\n",
       "      <td>88.6</td>\n",
       "      <td>168.8</td>\n",
       "      <td>64.1</td>\n",
       "      <td>48.8</td>\n",
       "      <td>2548</td>\n",
       "      <td>130</td>\n",
       "      <td>3.47</td>\n",
       "      <td>2.68</td>\n",
       "      <td>9.0</td>\n",
       "      <td>111</td>\n",
       "      <td>5000</td>\n",
       "      <td>21</td>\n",
       "      <td>27</td>\n",
       "      <td>13495</td>\n",
       "    </tr>\n",
       "  </tbody>\n",
       "</table>\n",
       "</div>"
      ],
      "text/plain": [
       "  normalized-losses  wheel-base  length  width  height  curb-weight  \\\n",
       "0                 ?        88.6   168.8   64.1    48.8         2548   \n",
       "\n",
       "   engine-size  bore stroke  compression-rate horsepower peak-rpm  city-mpg  \\\n",
       "0          130  3.47   2.68               9.0        111     5000        21   \n",
       "\n",
       "   highway-mpg  price  \n",
       "0           27  13495  "
      ]
     },
     "execution_count": 4,
     "metadata": {},
     "output_type": "execute_result"
    }
   ],
   "source": [
    "# Select only ordinal columns for prediction\n",
    "col = ['normalized-losses', 'wheel-base', 'length', 'width', 'height', \n",
    "       'curb-weight', 'engine-size', 'bore', 'stroke', 'compression-rate','horsepower',\n",
    "      'peak-rpm','city-mpg','highway-mpg','price']\n",
    "new_cars = cars[col]\n",
    "new_cars.head(1)"
   ]
  },
  {
   "cell_type": "code",
   "execution_count": 5,
   "id": "55e94d87",
   "metadata": {},
   "outputs": [
    {
     "data": {
      "text/html": [
       "<div>\n",
       "<style scoped>\n",
       "    .dataframe tbody tr th:only-of-type {\n",
       "        vertical-align: middle;\n",
       "    }\n",
       "\n",
       "    .dataframe tbody tr th {\n",
       "        vertical-align: top;\n",
       "    }\n",
       "\n",
       "    .dataframe thead th {\n",
       "        text-align: right;\n",
       "    }\n",
       "</style>\n",
       "<table border=\"1\" class=\"dataframe\">\n",
       "  <thead>\n",
       "    <tr style=\"text-align: right;\">\n",
       "      <th></th>\n",
       "      <th>normalized-losses</th>\n",
       "      <th>wheel-base</th>\n",
       "      <th>length</th>\n",
       "      <th>width</th>\n",
       "      <th>height</th>\n",
       "      <th>curb-weight</th>\n",
       "      <th>engine-size</th>\n",
       "      <th>bore</th>\n",
       "      <th>stroke</th>\n",
       "      <th>compression-rate</th>\n",
       "      <th>horsepower</th>\n",
       "      <th>peak-rpm</th>\n",
       "      <th>city-mpg</th>\n",
       "      <th>highway-mpg</th>\n",
       "      <th>price</th>\n",
       "    </tr>\n",
       "  </thead>\n",
       "  <tbody>\n",
       "    <tr>\n",
       "      <th>0</th>\n",
       "      <td>NaN</td>\n",
       "      <td>88.6</td>\n",
       "      <td>168.8</td>\n",
       "      <td>64.1</td>\n",
       "      <td>48.8</td>\n",
       "      <td>2548</td>\n",
       "      <td>130</td>\n",
       "      <td>3.47</td>\n",
       "      <td>2.68</td>\n",
       "      <td>9.0</td>\n",
       "      <td>111</td>\n",
       "      <td>5000</td>\n",
       "      <td>21</td>\n",
       "      <td>27</td>\n",
       "      <td>13495</td>\n",
       "    </tr>\n",
       "  </tbody>\n",
       "</table>\n",
       "</div>"
      ],
      "text/plain": [
       "  normalized-losses  wheel-base  length  width  height  curb-weight  \\\n",
       "0               NaN        88.6   168.8   64.1    48.8         2548   \n",
       "\n",
       "   engine-size  bore stroke  compression-rate horsepower peak-rpm  city-mpg  \\\n",
       "0          130  3.47   2.68               9.0        111     5000        21   \n",
       "\n",
       "   highway-mpg  price  \n",
       "0           27  13495  "
      ]
     },
     "execution_count": 5,
     "metadata": {},
     "output_type": "execute_result"
    }
   ],
   "source": [
    "# replace ? with NaN in normalized-losses\n",
    "new_cars = new_cars.replace('?',np.nan)\n",
    "new_cars.head(1)"
   ]
  },
  {
   "cell_type": "code",
   "execution_count": 6,
   "id": "60994379",
   "metadata": {},
   "outputs": [
    {
     "name": "stdout",
     "output_type": "stream",
     "text": [
      "<class 'pandas.core.frame.DataFrame'>\n",
      "RangeIndex: 205 entries, 0 to 204\n",
      "Data columns (total 15 columns):\n",
      " #   Column             Non-Null Count  Dtype  \n",
      "---  ------             --------------  -----  \n",
      " 0   normalized-losses  164 non-null    object \n",
      " 1   wheel-base         205 non-null    float64\n",
      " 2   length             205 non-null    float64\n",
      " 3   width              205 non-null    float64\n",
      " 4   height             205 non-null    float64\n",
      " 5   curb-weight        205 non-null    int64  \n",
      " 6   engine-size        205 non-null    int64  \n",
      " 7   bore               201 non-null    object \n",
      " 8   stroke             201 non-null    object \n",
      " 9   compression-rate   205 non-null    float64\n",
      " 10  horsepower         203 non-null    object \n",
      " 11  peak-rpm           203 non-null    object \n",
      " 12  city-mpg           205 non-null    int64  \n",
      " 13  highway-mpg        205 non-null    int64  \n",
      " 14  price              201 non-null    object \n",
      "dtypes: float64(5), int64(4), object(6)\n",
      "memory usage: 24.1+ KB\n"
     ]
    }
   ],
   "source": [
    "new_cars.info()"
   ]
  },
  {
   "cell_type": "code",
   "execution_count": 7,
   "id": "57257106",
   "metadata": {},
   "outputs": [
    {
     "name": "stdout",
     "output_type": "stream",
     "text": [
      "<class 'pandas.core.frame.DataFrame'>\n",
      "RangeIndex: 205 entries, 0 to 204\n",
      "Data columns (total 15 columns):\n",
      " #   Column             Non-Null Count  Dtype  \n",
      "---  ------             --------------  -----  \n",
      " 0   normalized-losses  164 non-null    float64\n",
      " 1   wheel-base         205 non-null    float64\n",
      " 2   length             205 non-null    float64\n",
      " 3   width              205 non-null    float64\n",
      " 4   height             205 non-null    float64\n",
      " 5   curb-weight        205 non-null    int64  \n",
      " 6   engine-size        205 non-null    int64  \n",
      " 7   bore               201 non-null    float64\n",
      " 8   stroke             201 non-null    float64\n",
      " 9   compression-rate   205 non-null    float64\n",
      " 10  horsepower         203 non-null    float64\n",
      " 11  peak-rpm           203 non-null    float64\n",
      " 12  city-mpg           205 non-null    int64  \n",
      " 13  highway-mpg        205 non-null    int64  \n",
      " 14  price              201 non-null    float64\n",
      "dtypes: float64(11), int64(4)\n",
      "memory usage: 24.1 KB\n"
     ]
    }
   ],
   "source": [
    "## Object to float\n",
    "new_cars[['normalized-losses','bore','stroke','horsepower','peak-rpm','price']]=new_cars[['normalized-losses','bore','stroke','horsepower','peak-rpm','price']].astype(float)\n",
    "new_cars.info()"
   ]
  },
  {
   "cell_type": "code",
   "execution_count": 8,
   "id": "c9d7781d",
   "metadata": {},
   "outputs": [
    {
     "data": {
      "text/plain": [
       "normalized-losses    41\n",
       "wheel-base            0\n",
       "length                0\n",
       "width                 0\n",
       "height                0\n",
       "curb-weight           0\n",
       "engine-size           0\n",
       "bore                  4\n",
       "stroke                4\n",
       "compression-rate      0\n",
       "horsepower            2\n",
       "peak-rpm              2\n",
       "city-mpg              0\n",
       "highway-mpg           0\n",
       "price                 4\n",
       "dtype: int64"
      ]
     },
     "execution_count": 8,
     "metadata": {},
     "output_type": "execute_result"
    }
   ],
   "source": [
    "new_cars.isnull().sum()"
   ]
  },
  {
   "cell_type": "code",
   "execution_count": 9,
   "id": "64230831",
   "metadata": {},
   "outputs": [],
   "source": [
    "## Drop prices with NaN since we need a price for prediction\n",
    "new_cars = new_cars.dropna(subset=['price'])"
   ]
  },
  {
   "cell_type": "code",
   "execution_count": 10,
   "id": "659b492e",
   "metadata": {},
   "outputs": [],
   "source": [
    "# Fill NaN values with mean of the column\n",
    "new_cars = new_cars.fillna(new_cars.mean())"
   ]
  },
  {
   "cell_type": "code",
   "execution_count": 11,
   "id": "3b6bd29b",
   "metadata": {},
   "outputs": [
    {
     "data": {
      "text/html": [
       "<div>\n",
       "<style scoped>\n",
       "    .dataframe tbody tr th:only-of-type {\n",
       "        vertical-align: middle;\n",
       "    }\n",
       "\n",
       "    .dataframe tbody tr th {\n",
       "        vertical-align: top;\n",
       "    }\n",
       "\n",
       "    .dataframe thead th {\n",
       "        text-align: right;\n",
       "    }\n",
       "</style>\n",
       "<table border=\"1\" class=\"dataframe\">\n",
       "  <thead>\n",
       "    <tr style=\"text-align: right;\">\n",
       "      <th></th>\n",
       "      <th>normalized-losses</th>\n",
       "      <th>wheel-base</th>\n",
       "      <th>length</th>\n",
       "      <th>width</th>\n",
       "      <th>height</th>\n",
       "      <th>curb-weight</th>\n",
       "      <th>engine-size</th>\n",
       "      <th>bore</th>\n",
       "      <th>stroke</th>\n",
       "      <th>compression-rate</th>\n",
       "      <th>horsepower</th>\n",
       "      <th>peak-rpm</th>\n",
       "      <th>city-mpg</th>\n",
       "      <th>highway-mpg</th>\n",
       "      <th>price</th>\n",
       "      <th>price_og</th>\n",
       "    </tr>\n",
       "  </thead>\n",
       "  <tbody>\n",
       "    <tr>\n",
       "      <th>0</th>\n",
       "      <td>0.298429</td>\n",
       "      <td>0.058309</td>\n",
       "      <td>0.413433</td>\n",
       "      <td>0.324786</td>\n",
       "      <td>0.083333</td>\n",
       "      <td>0.411171</td>\n",
       "      <td>0.260377</td>\n",
       "      <td>0.664286</td>\n",
       "      <td>0.290476</td>\n",
       "      <td>0.1250</td>\n",
       "      <td>0.294393</td>\n",
       "      <td>0.346939</td>\n",
       "      <td>0.222222</td>\n",
       "      <td>0.289474</td>\n",
       "      <td>0.207959</td>\n",
       "      <td>13495.0</td>\n",
       "    </tr>\n",
       "    <tr>\n",
       "      <th>1</th>\n",
       "      <td>0.298429</td>\n",
       "      <td>0.058309</td>\n",
       "      <td>0.413433</td>\n",
       "      <td>0.324786</td>\n",
       "      <td>0.083333</td>\n",
       "      <td>0.411171</td>\n",
       "      <td>0.260377</td>\n",
       "      <td>0.664286</td>\n",
       "      <td>0.290476</td>\n",
       "      <td>0.1250</td>\n",
       "      <td>0.294393</td>\n",
       "      <td>0.346939</td>\n",
       "      <td>0.222222</td>\n",
       "      <td>0.289474</td>\n",
       "      <td>0.282558</td>\n",
       "      <td>16500.0</td>\n",
       "    </tr>\n",
       "    <tr>\n",
       "      <th>2</th>\n",
       "      <td>0.298429</td>\n",
       "      <td>0.230321</td>\n",
       "      <td>0.449254</td>\n",
       "      <td>0.444444</td>\n",
       "      <td>0.383333</td>\n",
       "      <td>0.517843</td>\n",
       "      <td>0.343396</td>\n",
       "      <td>0.100000</td>\n",
       "      <td>0.666667</td>\n",
       "      <td>0.1250</td>\n",
       "      <td>0.495327</td>\n",
       "      <td>0.346939</td>\n",
       "      <td>0.166667</td>\n",
       "      <td>0.263158</td>\n",
       "      <td>0.282558</td>\n",
       "      <td>16500.0</td>\n",
       "    </tr>\n",
       "    <tr>\n",
       "      <th>3</th>\n",
       "      <td>0.518325</td>\n",
       "      <td>0.384840</td>\n",
       "      <td>0.529851</td>\n",
       "      <td>0.504274</td>\n",
       "      <td>0.541667</td>\n",
       "      <td>0.329325</td>\n",
       "      <td>0.181132</td>\n",
       "      <td>0.464286</td>\n",
       "      <td>0.633333</td>\n",
       "      <td>0.1875</td>\n",
       "      <td>0.252336</td>\n",
       "      <td>0.551020</td>\n",
       "      <td>0.305556</td>\n",
       "      <td>0.368421</td>\n",
       "      <td>0.219254</td>\n",
       "      <td>13950.0</td>\n",
       "    </tr>\n",
       "    <tr>\n",
       "      <th>4</th>\n",
       "      <td>0.518325</td>\n",
       "      <td>0.373178</td>\n",
       "      <td>0.529851</td>\n",
       "      <td>0.521368</td>\n",
       "      <td>0.541667</td>\n",
       "      <td>0.518231</td>\n",
       "      <td>0.283019</td>\n",
       "      <td>0.464286</td>\n",
       "      <td>0.633333</td>\n",
       "      <td>0.0625</td>\n",
       "      <td>0.313084</td>\n",
       "      <td>0.551020</td>\n",
       "      <td>0.138889</td>\n",
       "      <td>0.157895</td>\n",
       "      <td>0.306142</td>\n",
       "      <td>17450.0</td>\n",
       "    </tr>\n",
       "  </tbody>\n",
       "</table>\n",
       "</div>"
      ],
      "text/plain": [
       "   normalized-losses  wheel-base    length     width    height  curb-weight  \\\n",
       "0           0.298429    0.058309  0.413433  0.324786  0.083333     0.411171   \n",
       "1           0.298429    0.058309  0.413433  0.324786  0.083333     0.411171   \n",
       "2           0.298429    0.230321  0.449254  0.444444  0.383333     0.517843   \n",
       "3           0.518325    0.384840  0.529851  0.504274  0.541667     0.329325   \n",
       "4           0.518325    0.373178  0.529851  0.521368  0.541667     0.518231   \n",
       "\n",
       "   engine-size      bore    stroke  compression-rate  horsepower  peak-rpm  \\\n",
       "0     0.260377  0.664286  0.290476            0.1250    0.294393  0.346939   \n",
       "1     0.260377  0.664286  0.290476            0.1250    0.294393  0.346939   \n",
       "2     0.343396  0.100000  0.666667            0.1250    0.495327  0.346939   \n",
       "3     0.181132  0.464286  0.633333            0.1875    0.252336  0.551020   \n",
       "4     0.283019  0.464286  0.633333            0.0625    0.313084  0.551020   \n",
       "\n",
       "   city-mpg  highway-mpg     price  price_og  \n",
       "0  0.222222     0.289474  0.207959   13495.0  \n",
       "1  0.222222     0.289474  0.282558   16500.0  \n",
       "2  0.166667     0.263158  0.282558   16500.0  \n",
       "3  0.305556     0.368421  0.219254   13950.0  \n",
       "4  0.138889     0.157895  0.306142   17450.0  "
      ]
     },
     "execution_count": 11,
     "metadata": {},
     "output_type": "execute_result"
    }
   ],
   "source": [
    "# Normalize all columns with a range from 0 to 1 \n",
    "price_og = new_cars['price']\n",
    "new_cars = (new_cars - new_cars.min()) / (new_cars.max() - new_cars.min())\n",
    "\n",
    "new_cars['price_og'] = price_og\n",
    "\n",
    "new_cars.head()"
   ]
  },
  {
   "cell_type": "markdown",
   "id": "8520921c",
   "metadata": {},
   "source": [
    "## Univariate Model"
   ]
  },
  {
   "cell_type": "code",
   "execution_count": 12,
   "id": "2ceeca69",
   "metadata": {},
   "outputs": [],
   "source": [
    "from sklearn.neighbors import KNeighborsRegressor\n",
    "from sklearn.metrics import mean_squared_error"
   ]
  },
  {
   "cell_type": "code",
   "execution_count": 24,
   "id": "4712caf6",
   "metadata": {},
   "outputs": [],
   "source": [
    "# Function for the training and error process\n",
    "def knn_train_test(train_col, target_col, df):\n",
    "    np.random.seed(1)\n",
    "    knn = KNeighborsRegressor()\n",
    "    \n",
    "    shuffled_index = np.random.permutation(df.index)\n",
    "    rand_df = df.reindex(shuffled_index)\n",
    "    \n",
    "    num_80per = int((rand_df.shape[0])*0.75)\n",
    "    train_set = df[:num_80per]\n",
    "    test_set = df[num_80per:]\n",
    "    \n",
    "    knn.fit(train_set[[train_col]], train_set[target_col])\n",
    "    prediction = knn.predict(test_set[[train_col]])\n",
    "    \n",
    "    rmse = (mean_squared_error(test_set[target_col],prediction))**0.5\n",
    "    return rmse"
   ]
  },
  {
   "cell_type": "code",
   "execution_count": 74,
   "id": "7c05b5f5",
   "metadata": {},
   "outputs": [],
   "source": [
    "rmse_by_feature = {}\n",
    "train_columns = new_cars.columns.drop('price_og').drop('price')\n",
    "\n",
    "for col in train_columns:\n",
    "    rm = knn_train_test(col,'price_og',new_cars)\n",
    "    rmse_by_feature[col] = rm"
   ]
  },
  {
   "cell_type": "code",
   "execution_count": 75,
   "id": "78c0dcd4",
   "metadata": {},
   "outputs": [
    {
     "data": {
      "text/plain": [
       "{'normalized-losses': 9165.372097149993,\n",
       " 'wheel-base': 5600.275810224728,\n",
       " 'length': 6931.079964572196,\n",
       " 'width': 3816.7939591068457,\n",
       " 'height': 6575.68118251772,\n",
       " 'curb-weight': 2467.1015390375746,\n",
       " 'engine-size': 3544.400339557994,\n",
       " 'bore': 8173.167717238993,\n",
       " 'stroke': 7674.212610871734,\n",
       " 'compression-rate': 5676.281281220075,\n",
       " 'horsepower': 3822.8885837703365,\n",
       " 'peak-rpm': 7112.665899536641,\n",
       " 'city-mpg': 3635.9338845128937,\n",
       " 'highway-mpg': 2890.5559529029615}"
      ]
     },
     "execution_count": 75,
     "metadata": {},
     "output_type": "execute_result"
    }
   ],
   "source": [
    "rmse_by_feature"
   ]
  },
  {
   "cell_type": "markdown",
   "id": "ebff8695",
   "metadata": {},
   "source": [
    "We can see that the feature with the lowest rmse curb weight, which means that it is the best predictor out of these features to predict a price of a car by itself with k=5.\n",
    "\n",
    "Top 5 best features when k=5:\n",
    "1. curb-weight\n",
    "2. highway-mpg\n",
    "3. engine-size\n",
    "4. city-mpg\n",
    "5. width"
   ]
  },
  {
   "cell_type": "markdown",
   "id": "2d6028f6",
   "metadata": {},
   "source": [
    "#### Function with different k values"
   ]
  },
  {
   "cell_type": "code",
   "execution_count": 76,
   "id": "4bea18c5",
   "metadata": {},
   "outputs": [],
   "source": [
    "def knn_train_test_giveK(train_col, target_col, df):\n",
    "    np.random.seed(1)\n",
    "    shuffled_index = np.random.permutation(df.index)\n",
    "    rand_df = df.reindex(shuffled_index)\n",
    "    \n",
    "    num_80per = int((rand_df.shape[0])*0.75)\n",
    "    train_set = df[:num_80per]\n",
    "    test_set = df[num_80per:]\n",
    "    \n",
    "    rmse_list = {}\n",
    "    k_list = [1,3,5,7,9]\n",
    "    \n",
    "    for k in k_list:\n",
    "        knn = KNeighborsRegressor(n_neighbors=k)\n",
    "        knn.fit(train_set[[train_col]], train_set[target_col])\n",
    "        prediction = knn.predict(test_set[[train_col]])\n",
    "    \n",
    "        rmse = (mean_squared_error(test_set[target_col],prediction))**0.5\n",
    "        rmse_list[k] = rmse\n",
    "        \n",
    "    return rmse_list"
   ]
  },
  {
   "cell_type": "code",
   "execution_count": 77,
   "id": "c6250a19",
   "metadata": {},
   "outputs": [
    {
     "data": {
      "text/plain": [
       "{1: 3708.950345672838,\n",
       " 3: 2512.7548895736436,\n",
       " 5: 2467.1015390375746,\n",
       " 7: 2654.057385936321,\n",
       " 9: 2635.034409709563}"
      ]
     },
     "execution_count": 77,
     "metadata": {},
     "output_type": "execute_result"
    }
   ],
   "source": [
    "## Test to see if function works\n",
    "knn_train_test_giveK('curb-weight','price_og',new_cars)"
   ]
  },
  {
   "cell_type": "code",
   "execution_count": 78,
   "id": "3caa6960",
   "metadata": {},
   "outputs": [],
   "source": [
    "## Use function for every feature\n",
    "column_given_k = {}\n",
    "\n",
    "for column in train_columns:\n",
    "    setr = knn_train_test_giveK(column,'price_og',new_cars)\n",
    "    column_given_k[column] = setr"
   ]
  },
  {
   "cell_type": "code",
   "execution_count": 79,
   "id": "151bdf81",
   "metadata": {},
   "outputs": [
    {
     "data": {
      "text/plain": [
       "{'normalized-losses': {1: 9753.269432731313,\n",
       "  3: 10698.960392861421,\n",
       "  5: 9165.372097149993,\n",
       "  7: 7924.928711328062,\n",
       "  9: 7297.763011443536},\n",
       " 'wheel-base': {1: 3367.494559437793,\n",
       "  3: 5214.581957689807,\n",
       "  5: 5600.275810224728,\n",
       "  7: 5384.557726124067,\n",
       "  9: 5066.717655617186},\n",
       " 'length': {1: 8344.680366063443,\n",
       "  3: 5981.277074345173,\n",
       "  5: 6931.079964572196,\n",
       "  7: 5851.891349243024,\n",
       "  9: 5101.536482848944},\n",
       " 'width': {1: 6384.895229997061,\n",
       "  3: 4932.863130524504,\n",
       "  5: 3816.7939591068457,\n",
       "  7: 3361.4423824239707,\n",
       "  9: 3389.7175118250443},\n",
       " 'height': {1: 11902.790106261871,\n",
       "  3: 8573.619849805335,\n",
       "  5: 6575.68118251772,\n",
       "  7: 6255.294820111567,\n",
       "  9: 5494.685228394637},\n",
       " 'curb-weight': {1: 3708.950345672838,\n",
       "  3: 2512.7548895736436,\n",
       "  5: 2467.1015390375746,\n",
       "  7: 2654.057385936321,\n",
       "  9: 2635.034409709563},\n",
       " 'engine-size': {1: 5059.159416345763,\n",
       "  3: 3825.0950275122464,\n",
       "  5: 3544.400339557994,\n",
       "  7: 3123.050877637719,\n",
       "  9: 3091.4986679667495},\n",
       " 'bore': {1: 7501.258872127176,\n",
       "  3: 9582.477784260122,\n",
       "  5: 8173.167717238993,\n",
       "  7: 7789.231846870764,\n",
       "  9: 6517.17626849584},\n",
       " 'stroke': {1: 13710.513661520676,\n",
       "  3: 9745.634959209683,\n",
       "  5: 7674.212610871734,\n",
       "  7: 5860.822114238062,\n",
       "  9: 4827.315391562385},\n",
       " 'compression-rate': {1: 9685.30389453071,\n",
       "  3: 4311.282615263239,\n",
       "  5: 5676.281281220075,\n",
       "  7: 6623.011623029474,\n",
       "  9: 6261.626339432078},\n",
       " 'horsepower': {1: 4944.29783670434,\n",
       "  3: 4260.532262154899,\n",
       "  5: 3822.8885837703365,\n",
       "  7: 3937.8279681624913,\n",
       "  9: 3660.4645019956647},\n",
       " 'peak-rpm': {1: 12882.620617731167,\n",
       "  3: 9441.916404521817,\n",
       "  5: 7112.665899536641,\n",
       "  7: 6905.743919726096,\n",
       "  9: 6643.591698071903},\n",
       " 'city-mpg': {1: 5352.066743919824,\n",
       "  3: 3513.8566690506614,\n",
       "  5: 3635.9338845128937,\n",
       "  7: 3419.612802977688,\n",
       "  9: 3292.4684712581534},\n",
       " 'highway-mpg': {1: 4197.2298217360685,\n",
       "  3: 3951.1269341934503,\n",
       "  5: 2890.5559529029615,\n",
       "  7: 2520.457478387633,\n",
       "  9: 2357.025399721227}}"
      ]
     },
     "execution_count": 79,
     "metadata": {},
     "output_type": "execute_result"
    }
   ],
   "source": [
    "column_given_k"
   ]
  },
  {
   "cell_type": "code",
   "execution_count": 118,
   "id": "c6cc5d1f",
   "metadata": {},
   "outputs": [
    {
     "data": {
      "image/png": "[encoded data removed]",
      "text/plain": [
       "<Figure size 432x288 with 1 Axes>"
      ]
     },
     "metadata": {
      "needs_background": "light"
     },
     "output_type": "display_data"
    }
   ],
   "source": [
    "import matplotlib.pyplot as plt\n",
    "%matplotlib inline\n",
    "\n",
    "for key,values in column_given_k.items():\n",
    "    ke = list(values.keys())\n",
    "    va = list(values.values())\n",
    "    \n",
    "    plt.plot(ke,va)\n",
    "    plt.xlabel('K values')\n",
    "    plt.ylabel('RMSE Values')\n",
    "plt.show()"
   ]
  },
  {
   "cell_type": "markdown",
   "id": "7c832d42",
   "metadata": {},
   "source": [
    "We can see that the Univariate model with the lowest RMSE is highway-mpg with k=9."
   ]
  },
  {
   "cell_type": "markdown",
   "id": "cd6e70d1",
   "metadata": {},
   "source": [
    "## Multivariate Model"
   ]
  },
  {
   "cell_type": "code",
   "execution_count": 132,
   "id": "7729ee78",
   "metadata": {},
   "outputs": [],
   "source": [
    "def knn_train_test_multivariate(train_col, target_col, k, df):\n",
    "    np.random.seed(1)\n",
    "    knn = KNeighborsRegressor(n_neighbors = k)\n",
    "    \n",
    "    shuffled_index = np.random.permutation(df.index)\n",
    "    rand_df = df.reindex(shuffled_index)\n",
    "    \n",
    "    num_80per = int((rand_df.shape[0])*0.75)\n",
    "    train_set = df[:num_80per]\n",
    "    test_set = df[num_80per:]\n",
    "    \n",
    "    knn.fit(train_set[train_col], train_set[target_col])\n",
    "    prediction = knn.predict(test_set[train_col])\n",
    "    \n",
    "    rmse = (mean_squared_error(test_set[target_col],prediction))**0.5\n",
    "    return rmse"
   ]
  },
  {
   "cell_type": "code",
   "execution_count": 133,
   "id": "3faa4c25",
   "metadata": {},
   "outputs": [
    {
     "data": {
      "text/plain": [
       "3071.6276959854845"
      ]
     },
     "execution_count": 133,
     "metadata": {},
     "output_type": "execute_result"
    }
   ],
   "source": [
    "# Two best features\n",
    "knn_train_test_multivariate(['curb-weight','highway-mpg'],'price_og', 5, new_cars)"
   ]
  },
  {
   "cell_type": "code",
   "execution_count": 134,
   "id": "6fb54989",
   "metadata": {},
   "outputs": [
    {
     "data": {
      "text/plain": [
       "2739.67417112356"
      ]
     },
     "execution_count": 134,
     "metadata": {},
     "output_type": "execute_result"
    }
   ],
   "source": [
    "# Three best features\n",
    "knn_train_test_multivariate(['curb-weight','highway-mpg','engine-size'],'price_og', 5, new_cars)"
   ]
  },
  {
   "cell_type": "code",
   "execution_count": 135,
   "id": "aa34e978",
   "metadata": {},
   "outputs": [
    {
     "data": {
      "text/plain": [
       "2332.5369899343"
      ]
     },
     "execution_count": 135,
     "metadata": {},
     "output_type": "execute_result"
    }
   ],
   "source": [
    "# Four best features\n",
    "knn_train_test_multivariate(['curb-weight','highway-mpg','engine-size','city-mpg'],'price_og', 5, new_cars)"
   ]
  },
  {
   "cell_type": "code",
   "execution_count": 136,
   "id": "20054174",
   "metadata": {},
   "outputs": [
    {
     "data": {
      "text/plain": [
       "2203.571913338637"
      ]
     },
     "execution_count": 136,
     "metadata": {},
     "output_type": "execute_result"
    }
   ],
   "source": [
    "# Five best features\n",
    "knn_train_test_multivariate(['curb-weight','highway-mpg','engine-size','city-mpg','width'],'price_og', 5, new_cars)"
   ]
  },
  {
   "cell_type": "markdown",
   "id": "58323c9f",
   "metadata": {},
   "source": [
    "We can see that having 5 of the best univariate features while k=5 improves our model.\n",
    "\n",
    "Top 3:\n",
    "1. Five best features\n",
    "2. Four best features\n",
    "3. Three best features"
   ]
  },
  {
   "cell_type": "markdown",
   "id": "cf32e0d7",
   "metadata": {},
   "source": [
    "## Hyperparameter tuning"
   ]
  },
  {
   "cell_type": "markdown",
   "id": "bff82fd0",
   "metadata": {},
   "source": [
    "Now, we will use the 3 best models in the previous step and alter their k-values from 1-25 to find the optimal k value for each model."
   ]
  },
  {
   "cell_type": "code",
   "execution_count": 148,
   "id": "cb3859bd",
   "metadata": {},
   "outputs": [],
   "source": [
    "three = []\n",
    "four = []\n",
    "five = []\n",
    "for i in range(25):\n",
    "    th = knn_train_test_multivariate(['curb-weight','highway-mpg','engine-size'],'price_og', i+1, new_cars)\n",
    "    three.append(th)\n",
    "    fo = knn_train_test_multivariate(['curb-weight','highway-mpg','engine-size','city-mpg'],'price_og', i+1, new_cars)\n",
    "    four.append(fo)\n",
    "    fi = knn_train_test_multivariate(['curb-weight','highway-mpg','engine-size','city-mpg','width'],'price_og', i+1, new_cars)\n",
    "    five.append(fi)"
   ]
  },
  {
   "cell_type": "code",
   "execution_count": 154,
   "id": "a74202af",
   "metadata": {
    "scrolled": true
   },
   "outputs": [
    {
     "data": {
      "image/png": "[encoded data removed]",
      "text/plain": [
       "<Figure size 432x288 with 1 Axes>"
      ]
     },
     "metadata": {
      "needs_background": "light"
     },
     "output_type": "display_data"
    }
   ],
   "source": [
    "plt.plot(three,label='Three Features')\n",
    "plt.plot(four,label='Four Features')\n",
    "plt.plot(five,label='Five Features')\n",
    "plt.legend()\n",
    "plt.xlabel('K value')\n",
    "plt.ylabel('RMSE')\n",
    "plt.show()"
   ]
  },
  {
   "cell_type": "markdown",
   "id": "014293ec",
   "metadata": {},
   "source": [
    "## Conclusion"
   ]
  },
  {
   "cell_type": "markdown",
   "id": "6d893a0c",
   "metadata": {},
   "source": [
    "We can see that the best model for predicting the price of a car would need to include five of the best univariate features with a k-value from around 12-15."
   ]
  }
 ],
 "metadata": {
  "kernelspec": {
   "display_name": "Python 3 (ipykernel)",
   "language": "python",
   "name": "python3"
  },
  "language_info": {
   "codemirror_mode": {
    "name": "ipython",
    "version": 3
   },
   "file_extension": ".py",
   "mimetype": "text/x-python",
   "name": "python",
   "nbconvert_exporter": "python",
   "pygments_lexer": "ipython3",
   "version": "3.9.7"
  }
 },
 "nbformat": 4,
 "nbformat_minor": 5
}
